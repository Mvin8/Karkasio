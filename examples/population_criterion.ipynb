{
 "cells": [
  {
   "cell_type": "code",
   "execution_count": 1,
   "metadata": {},
   "outputs": [],
   "source": [
    "# import osmnx as ox\n",
    "import pandas as pd\n",
    "import geopandas as gpd\n",
    "import networkx as nx\n",
    "import numpy as np\n",
    "import warnings\n",
    "import sys\n",
    "import os\n",
    "warnings.filterwarnings(\"ignore\")\n",
    "sys.stderr = open(os.devnull, 'w')\n",
    "\n",
    "# local crs\n",
    "local_crs = 32636"
   ]
  },
  {
   "cell_type": "code",
   "execution_count": 3,
   "metadata": {},
   "outputs": [],
   "source": [
    "from popframe.models.region import Region\n",
    "\n",
    "region_model = Region.from_pickle('data/Ленинградская область.pickle')"
   ]
  },
  {
   "cell_type": "code",
   "execution_count": 4,
   "metadata": {},
   "outputs": [
    {
     "ename": "ModuleNotFoundError",
     "evalue": "No module named 'popframe.models.region_old'",
     "output_type": "error",
     "traceback": [
      "\u001b[0;31m---------------------------------------------------------------------------\u001b[0m",
      "\u001b[0;31mModuleNotFoundError\u001b[0m                       Traceback (most recent call last)",
      "Cell \u001b[0;32mIn[4], line 1\u001b[0m\n\u001b[0;32m----> 1\u001b[0m \u001b[39mfrom\u001b[39;00m \u001b[39mpopframe\u001b[39;00m\u001b[39m.\u001b[39;00m\u001b[39mmethod\u001b[39;00m\u001b[39m.\u001b[39;00m\u001b[39mterritory_evaluation\u001b[39;00m \u001b[39mimport\u001b[39;00m TerritoryEvaluation\n\u001b[1;32m      2\u001b[0m \u001b[39mfrom\u001b[39;00m \u001b[39mpopframe\u001b[39;00m\u001b[39m.\u001b[39;00m\u001b[39mmodels\u001b[39;00m\u001b[39m.\u001b[39;00m\u001b[39mregion\u001b[39;00m \u001b[39mimport\u001b[39;00m Region\n\u001b[1;32m      3\u001b[0m \u001b[39mfrom\u001b[39;00m \u001b[39mshapely\u001b[39;00m\u001b[39m.\u001b[39;00m\u001b[39mgeometry\u001b[39;00m \u001b[39mimport\u001b[39;00m shape\n",
      "File \u001b[0;32m~/Code/PopFrame/popframe/method/territory_evaluation.py:13\u001b[0m\n\u001b[1;32m      9\u001b[0m \u001b[39mimport\u001b[39;00m \u001b[39mjson\u001b[39;00m\n\u001b[1;32m     10\u001b[0m \u001b[39mfrom\u001b[39;00m \u001b[39mio\u001b[39;00m \u001b[39mimport\u001b[39;00m StringIO\n\u001b[0;32m---> 13\u001b[0m \u001b[39mfrom\u001b[39;00m \u001b[39m.\u001b[39;00m\u001b[39m.\u001b[39;00m\u001b[39mmodels\u001b[39;00m\u001b[39m.\u001b[39;00m\u001b[39mregion_old\u001b[39;00m \u001b[39mimport\u001b[39;00m Town\n\u001b[1;32m     14\u001b[0m \u001b[39mfrom\u001b[39;00m \u001b[39m.\u001b[39;00m\u001b[39mbase_method\u001b[39;00m \u001b[39mimport\u001b[39;00m BaseMethod\n\u001b[1;32m     17\u001b[0m \u001b[39mclass\u001b[39;00m \u001b[39mTerritoryEvaluation\u001b[39;00m(BaseMethod):\n",
      "\u001b[0;31mModuleNotFoundError\u001b[0m: No module named 'popframe.models.region_old'"
     ]
    }
   ],
   "source": [
    "from popframe.method.territory_evaluation import TerritoryEvaluation\n",
    "from popframe.models.region import Region\n",
    "from shapely.geometry import shape\n",
    "\n",
    "\n",
    "geojson_data = {\n",
    "    \"geometry\": {\n",
    "        \"type\": \"Polygon\",\n",
    "        \"coordinates\": [\n",
    "            [\n",
    "                [29.982879431084967, 59.363554752593245],\n",
    "                [29.982879431084967, 59.322083801173534],\n",
    "                [30.109075699649765, 59.322083801173534],\n",
    "                [30.109075699649765, 59.363554752593245],\n",
    "                [29.982879431084967, 59.363554752593245]\n",
    "            ]\n",
    "        ]\n",
    "    },\n",
    "    \"properties\": {},\n",
    "    \"type\": \"Feature\"\n",
    "}\n",
    "\n",
    "# Преобразуем словарь в геометрию\n",
    "geom = shape(geojson_data['geometry'])\n",
    "\n",
    "# Создаем GeoDataFrame\n",
    "territories_gdf = gpd.GeoDataFrame([{'geometry': geom}], crs='EPSG:4326')\n",
    "\n",
    "evaluation = TerritoryEvaluation(region=region_model)\n",
    "# Пример вызова функции\n",
    "results = evaluation.population_criterion(territories=None)\n",
    "results"
   ]
  }
 ],
 "metadata": {
  "kernelspec": {
   "display_name": "Python 3.10.11 ('.venv': venv)",
   "language": "python",
   "name": "python3"
  },
  "language_info": {
   "codemirror_mode": {
    "name": "ipython",
    "version": 3
   },
   "file_extension": ".py",
   "mimetype": "text/x-python",
   "name": "python",
   "nbconvert_exporter": "python",
   "pygments_lexer": "ipython3",
   "version": "3.10.11"
  },
  "orig_nbformat": 4,
  "vscode": {
   "interpreter": {
    "hash": "d84d888e8c1aa976b1aefaf298f847d99d3cc79ef99c572526352e6a5929ae47"
   }
  }
 },
 "nbformat": 4,
 "nbformat_minor": 2
}
