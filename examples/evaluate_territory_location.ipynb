{
 "cells": [
  {
   "cell_type": "code",
   "execution_count": 1,
   "metadata": {},
   "outputs": [],
   "source": [
    "# import osmnx as ox\n",
    "import pandas as pd\n",
    "import geopandas as gpd\n",
    "\n",
    "import warnings\n",
    "import sys\n",
    "import os\n",
    "warnings.filterwarnings(\"ignore\")\n",
    "sys.stderr = open(os.devnull, 'w')\n",
    "\n",
    "# local crs\n",
    "local_crs = 32636"
   ]
  },
  {
   "cell_type": "code",
   "execution_count": 2,
   "metadata": {},
   "outputs": [],
   "source": [
    "from popframe.models.region import Region\n",
    "\n",
    "region_model = Region.from_pickle('/Users/mvin/Code/PopFrame/examples/data/model_data/region.pickle')"
   ]
  },
  {
   "cell_type": "code",
   "execution_count": 3,
   "metadata": {},
   "outputs": [
    {
     "data": {
      "text/plain": [
       "<popframe.models.region.Region at 0x103eb62f0>"
      ]
     },
     "execution_count": 3,
     "metadata": {},
     "output_type": "execute_result"
    }
   ],
   "source": [
    "region_model"
   ]
  },
  {
   "cell_type": "code",
   "execution_count": 4,
   "metadata": {},
   "outputs": [],
   "source": [
    "from popframe.method.territory_evaluation import TerritoryEvaluation"
   ]
  },
  {
   "cell_type": "code",
   "execution_count": 5,
   "metadata": {},
   "outputs": [
    {
     "name": "stdout",
     "output_type": "stream",
     "text": [
      "Территория: Лодейное Поле, Оценка: 4, Интерпретация: территория находится внутри или непосредственной близости крупного населенного пункта, Ближайший населённый пункт: Лодейное Поле\n",
      "Территория: Шлиссельбург, Оценка: 3, Интерпретация: территория находится внутри или непосредственной близости небольшого населенного пункта, Ближайший населённый пункт: Шлиссельбург\n",
      "Территория: Сиверский, Оценка: 3, Интерпретация: территория находится внутри или непосредственной близости небольшого населенного пункта, Ближайший населённый пункт: Сиверский\n",
      "Территория: Светогорск, Оценка: 3, Интерпретация: территория находится внутри или непосредственной близости небольшого населенного пункта, Ближайший населённый пункт: Светогорск\n"
     ]
    }
   ],
   "source": [
    "from popframe.method.territory_evaluation import TerritoryEvaluation\n",
    "\n",
    "evaluation = TerritoryEvaluation(region=region_model)\n",
    "\n",
    "# Пример использования функции\n",
    "results = evaluation.evaluate_territory_location()\n",
    "\n",
    "for result in results:\n",
    "    if result['closest_settlement']:\n",
    "        print(f\"Территория: {result['territory']}, Оценка: {result['score']}, Интерпретация: {result['interpretation']}, Ближайший населённый пункт: {result['closest_settlement']}\")\n",
    "    else:\n",
    "        print(f\"Территория: {result['territory']}, Оценка: {result['score']}, Интерпретация: {result['interpretation']}. Территория находится между населенными пунктами: {result['closest_settlement1']} и {result['closest_settlement2']}.\")"
   ]
  },
  {
   "cell_type": "code",
   "execution_count": 6,
   "metadata": {},
   "outputs": [
    {
     "data": {
      "text/plain": [
       "[{'territory': 'Лодейное Поле',\n",
       "  'score': 4,\n",
       "  'interpretation': 'территория находится внутри или непосредственной близости крупного населенного пункта',\n",
       "  'closest_settlement': 'Лодейное Поле',\n",
       "  'closest_settlement1': None,\n",
       "  'closest_settlement2': None},\n",
       " {'territory': 'Шлиссельбург',\n",
       "  'score': 3,\n",
       "  'interpretation': 'территория находится внутри или непосредственной близости небольшого населенного пункта',\n",
       "  'closest_settlement': 'Шлиссельбург',\n",
       "  'closest_settlement1': None,\n",
       "  'closest_settlement2': None},\n",
       " {'territory': 'Сиверский',\n",
       "  'score': 3,\n",
       "  'interpretation': 'территория находится внутри или непосредственной близости небольшого населенного пункта',\n",
       "  'closest_settlement': 'Сиверский',\n",
       "  'closest_settlement1': None,\n",
       "  'closest_settlement2': None},\n",
       " {'territory': 'Светогорск',\n",
       "  'score': 3,\n",
       "  'interpretation': 'территория находится внутри или непосредственной близости небольшого населенного пункта',\n",
       "  'closest_settlement': 'Светогорск',\n",
       "  'closest_settlement1': None,\n",
       "  'closest_settlement2': None}]"
      ]
     },
     "execution_count": 6,
     "metadata": {},
     "output_type": "execute_result"
    }
   ],
   "source": [
    "results"
   ]
  }
 ],
 "metadata": {
  "kernelspec": {
   "display_name": "Python 3.10.11 ('.venv': venv)",
   "language": "python",
   "name": "python3"
  },
  "language_info": {
   "codemirror_mode": {
    "name": "ipython",
    "version": 3
   },
   "file_extension": ".py",
   "mimetype": "text/x-python",
   "name": "python",
   "nbconvert_exporter": "python",
   "pygments_lexer": "ipython3",
   "version": "3.10.11"
  },
  "orig_nbformat": 4,
  "vscode": {
   "interpreter": {
    "hash": "d84d888e8c1aa976b1aefaf298f847d99d3cc79ef99c572526352e6a5929ae47"
   }
  }
 },
 "nbformat": 4,
 "nbformat_minor": 2
}
