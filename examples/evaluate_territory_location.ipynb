{
 "cells": [
  {
   "cell_type": "code",
   "execution_count": 1,
   "metadata": {},
   "outputs": [],
   "source": [
    "# import osmnx as ox\n",
    "import pandas as pd\n",
    "import geopandas as gpd\n",
    "\n",
    "import warnings\n",
    "import sys\n",
    "import os\n",
    "warnings.filterwarnings(\"ignore\")\n",
    "sys.stderr = open(os.devnull, 'w')\n",
    "\n",
    "# local crs\n",
    "local_crs = 32636"
   ]
  },
  {
   "cell_type": "code",
   "execution_count": 2,
   "metadata": {},
   "outputs": [],
   "source": [
    "adj_mx = pd.read_pickle('/Users/mvin/Code/PopFrame/examples/data/model_data/adj_mx.pickle')\n",
    "towns = gpd.read_parquet('/Users/mvin/Code/PopFrame/examples/data/model_data/towns.parquet')\n",
    "okrugs = gpd.read_parquet('/Users/mvin/Code/PopFrame/examples/data/model_data/okrugs.parquet')\n",
    "rayons = gpd.read_parquet('/Users/mvin/Code/PopFrame/examples/data/model_data/rayons.parquet')\n",
    "territory = gpd.read_parquet('/Users/mvin/Code/PopFrame/examples/data/model_data/territory.parquet')\n"
   ]
  },
  {
   "cell_type": "code",
   "execution_count": 3,
   "metadata": {},
   "outputs": [],
   "source": [
    "from popframe.models.region import Region\n",
    "\n",
    "region = Region(\n",
    "  towns=towns,\n",
    "  okrugs=okrugs, \n",
    "  rayons=rayons, \n",
    "  adjacency_matrix=adj_mx,\n",
    "  territory=territory\n",
    ")"
   ]
  },
  {
   "cell_type": "code",
   "execution_count": 4,
   "metadata": {},
   "outputs": [
    {
     "name": "stdout",
     "output_type": "stream",
     "text": [
      "Оценка: 3, Интерпретация: территория находится внутри или непосредственной близости небольшого населенного пункта, Ближайший населённый пункт: Сиверский\n"
     ]
    }
   ],
   "source": [
    "from popframe.method.territory_evaluation import TerritoryEvaluation\n",
    "\n",
    "evaluation = TerritoryEvaluation(region=region)\n",
    "# Пример использования функции\n",
    "score, interpretation, settlement_name, settlement1_name, settlement2_name, = evaluation.evaluate_territory_location()\n",
    "if settlement_name:\n",
    "    print(f\"Оценка: {score}, Интерпретация: {interpretation}, Ближайший населённый пункт: {settlement_name}\")\n",
    "else: \n",
    "    print(f\"Оценка: {score}, Интерпретация: {interpretation}. Территория находится между населенными пунктами: {settlement1_name} и {settlement2_name}.\")"
   ]
  }
 ],
 "metadata": {
  "kernelspec": {
   "display_name": "Python 3.10.11 ('.venv': venv)",
   "language": "python",
   "name": "python3"
  },
  "language_info": {
   "codemirror_mode": {
    "name": "ipython",
    "version": 3
   },
   "file_extension": ".py",
   "mimetype": "text/x-python",
   "name": "python",
   "nbconvert_exporter": "python",
   "pygments_lexer": "ipython3",
   "version": "3.10.11"
  },
  "orig_nbformat": 4,
  "vscode": {
   "interpreter": {
    "hash": "d84d888e8c1aa976b1aefaf298f847d99d3cc79ef99c572526352e6a5929ae47"
   }
  }
 },
 "nbformat": 4,
 "nbformat_minor": 2
}
