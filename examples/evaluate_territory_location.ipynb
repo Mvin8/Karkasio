{
 "cells": [
  {
   "cell_type": "code",
   "execution_count": 1,
   "metadata": {},
   "outputs": [],
   "source": [
    "# import osmnx as ox\n",
    "import pandas as pd\n",
    "import geopandas as gpd\n",
    "import json\n",
    "from io import StringIO\n",
    "import warnings\n",
    "import sys\n",
    "import os\n",
    "warnings.filterwarnings(\"ignore\")\n",
    "sys.stderr = open(os.devnull, 'w')\n",
    "\n",
    "# local crs\n",
    "local_crs = 32636"
   ]
  },
  {
   "cell_type": "code",
   "execution_count": 2,
   "metadata": {},
   "outputs": [],
   "source": [
    "from popframe.models.region import Region\n",
    "\n",
    "region_model = Region.from_pickle('data/model_data/region_noter.pickle')"
   ]
  },
  {
   "cell_type": "code",
   "execution_count": 3,
   "metadata": {},
   "outputs": [],
   "source": [
    "settlements_gdf = region_model.get_towns_gdf()\n",
    "territories_gdf = region_model.get_territories_gdf()\n",
    "settlements_gdf = settlements_gdf.to_crs(epsg=3857)\n",
    "territories_gdf = territories_gdf.to_crs(epsg=3857)\n"
   ]
  },
  {
   "cell_type": "code",
   "execution_count": 4,
   "metadata": {},
   "outputs": [
    {
     "name": "stdout",
     "output_type": "stream",
     "text": [
      "Территория: Шиссельбург, Оценка: 1, Интерпретация: территория находится между основными ядрами системы расселения. Территория находится между населенными пунктами: Кировск и Шереметьевка.\n"
     ]
    }
   ],
   "source": [
    "from popframe.method.territory_evaluation import TerritoryEvaluation\n",
    "\n",
    "evaluation = TerritoryEvaluation(region=region_model)\n",
    "\n",
    "# Пример использования функции\n",
    "results = evaluation.evaluate_territory_location(territories = None)\n",
    "\n",
    "for result in results:\n",
    "    if result['closest_settlement']:\n",
    "        print(f\"Территория: {result['territory']}, Оценка: {result['score']}, Интерпретация: {result['interpretation']}, Ближайший населённый пункт: {result['closest_settlement']}\")\n",
    "    else:\n",
    "        print(f\"Территория: {result['territory']}, Оценка: {result['score']}, Интерпретация: {result['interpretation']}. Территория находится между населенными пунктами: {result['closest_settlement1']} и {result['closest_settlement2']}.\")"
   ]
  },
  {
   "cell_type": "code",
   "execution_count": 5,
   "metadata": {},
   "outputs": [
    {
     "data": {
      "text/plain": [
       "[{'territory': 'Шиссельбург',\n",
       "  'score': 1,\n",
       "  'interpretation': 'территория находится между основными ядрами системы расселения',\n",
       "  'closest_settlement': None,\n",
       "  'closest_settlement1': 'Кировск',\n",
       "  'closest_settlement2': 'Шереметьевка'}]"
      ]
     },
     "execution_count": 5,
     "metadata": {},
     "output_type": "execute_result"
    }
   ],
   "source": [
    "results"
   ]
  }
 ],
 "metadata": {
  "kernelspec": {
   "display_name": "Python 3.10.11 ('.venv': venv)",
   "language": "python",
   "name": "python3"
  },
  "language_info": {
   "codemirror_mode": {
    "name": "ipython",
    "version": 3
   },
   "file_extension": ".py",
   "mimetype": "text/x-python",
   "name": "python",
   "nbconvert_exporter": "python",
   "pygments_lexer": "ipython3",
   "version": "3.10.11"
  },
  "orig_nbformat": 4,
  "vscode": {
   "interpreter": {
    "hash": "d84d888e8c1aa976b1aefaf298f847d99d3cc79ef99c572526352e6a5929ae47"
   }
  }
 },
 "nbformat": 4,
 "nbformat_minor": 2
}
