{
 "cells": [
  {
   "cell_type": "code",
   "execution_count": 5,
   "metadata": {},
   "outputs": [],
   "source": [
    "# import osmnx as ox\n",
    "import pandas as pd\n",
    "import geopandas as gpd\n",
    "import json\n",
    "from io import StringIO\n",
    "import warnings\n",
    "import sys\n",
    "import os\n",
    "warnings.filterwarnings(\"ignore\")\n",
    "sys.stderr = open(os.devnull, 'w')\n",
    "\n",
    "# local crs\n",
    "local_crs = 32636"
   ]
  },
  {
   "cell_type": "code",
   "execution_count": 6,
   "metadata": {},
   "outputs": [],
   "source": [
    "from popframe.models.region import Region\n",
    "\n",
    "region_model = Region.from_pickle('data/model_data/region_noter.pickle')"
   ]
  },
  {
   "cell_type": "code",
   "execution_count": 7,
   "metadata": {},
   "outputs": [
    {
     "name": "stdout",
     "output_type": "stream",
     "text": [
      "Территория: Шиссельбург, Оценка: 5, Интерпретация: территория находится внутри или непосредственной близости населенного пункта уровня Малый город, Ближайший населённый пункт: Шлиссельбург\n"
     ]
    }
   ],
   "source": [
    "from popframe.method.territory_evaluation import TerritoryEvaluation\n",
    "\n",
    "evaluation = TerritoryEvaluation(region=region_model)\n",
    "\n",
    "# Пример использования функции\n",
    "results = evaluation.evaluate_territory_location(territories = None)\n",
    "\n",
    "for result in results:\n",
    "    if result['closest_settlement']:\n",
    "        print(f\"Территория: {result['territory']}, Оценка: {result['score']}, Интерпретация: {result['interpretation']}, Ближайший населённый пункт: {result['closest_settlement']}\")\n",
    "    else:\n",
    "        print(f\"Территория: {result['territory']}, Оценка: {result['score']}, Интерпретация: {result['interpretation']}. Территория находится между населенными пунктами: {result['closest_settlement1']} и {result['closest_settlement2']}.\")"
   ]
  },
  {
   "cell_type": "code",
   "execution_count": 8,
   "metadata": {},
   "outputs": [
    {
     "data": {
      "text/plain": [
       "[{'territory': 'Шиссельбург',\n",
       "  'score': 5,\n",
       "  'interpretation': 'территория находится внутри или непосредственной близости населенного пункта уровня Малый город',\n",
       "  'closest_settlement': 'Шлиссельбург',\n",
       "  'closest_settlement1': None,\n",
       "  'closest_settlement2': None}]"
      ]
     },
     "execution_count": 8,
     "metadata": {},
     "output_type": "execute_result"
    }
   ],
   "source": [
    "results"
   ]
  }
 ],
 "metadata": {
  "kernelspec": {
   "display_name": "Python 3.10.11 ('.venv': venv)",
   "language": "python",
   "name": "python3"
  },
  "language_info": {
   "codemirror_mode": {
    "name": "ipython",
    "version": 3
   },
   "file_extension": ".py",
   "mimetype": "text/x-python",
   "name": "python",
   "nbconvert_exporter": "python",
   "pygments_lexer": "ipython3",
   "version": "3.10.11"
  },
  "orig_nbformat": 4,
  "vscode": {
   "interpreter": {
    "hash": "d84d888e8c1aa976b1aefaf298f847d99d3cc79ef99c572526352e6a5929ae47"
   }
  }
 },
 "nbformat": 4,
 "nbformat_minor": 2
}
