{
 "cells": [
  {
   "cell_type": "code",
   "execution_count": 2,
   "metadata": {},
   "outputs": [],
   "source": [
    "import geopandas as gpd\n",
    "import pandas as pd\n",
    "import osmnx as ox\n",
    "import folium\n",
    "from math import sqrt\n",
    "from shapely import wkt\n",
    "import json\n",
    "from shapely.geometry import Polygon, LineString\n",
    "from matplotlib import pyplot as plt\n",
    "pd.set_option('display.max_columns', None)\n",
    "\n",
    "import warnings\n",
    "from pandas.errors import SettingWithCopyWarning\n",
    "warnings.simplefilter(action=\"ignore\", category=SettingWithCopyWarning)\n",
    "example_data_path = \"./data\""
   ]
  },
  {
   "cell_type": "code",
   "execution_count": 3,
   "metadata": {},
   "outputs": [],
   "source": [
    "from popframe.models.region import Region\n",
    "\n",
    "region_model = Region.from_pickle('data/model_data/region_noter.pickle')"
   ]
  },
  {
   "cell_type": "code",
   "execution_count": 4,
   "metadata": {},
   "outputs": [],
   "source": [
    "\n",
    "territories_criteria = {\n",
    "        \"Население\": 2,\n",
    "        \"Транспорт\": 3,\n",
    "        \"Экология\": 5,\n",
    "        \"Соц-об\": 3,\n",
    "        \"Инж инф\": 2,\n",
    "    }"
   ]
  },
  {
   "cell_type": "code",
   "execution_count": 5,
   "metadata": {},
   "outputs": [
    {
     "data": {
      "text/plain": [
       "[('Сельско-хозяйственная', (5, 1)),\n",
       " ('Транспортная инженерная', (5, 0)),\n",
       " ('Жилая застройка - ИЖС', (3, 1)),\n",
       " ('Специального назначения - туристический кластер', (3, 0)),\n",
       " ('Жилая застройка - Малоэтажная', (2, 1)),\n",
       " ('Общественно-деловая', (2, 1)),\n",
       " ('Специального назначения - медицинский центр', (2, 0)),\n",
       " ('Промышленная', (2, 0)),\n",
       " ('Жилая застройка - Среднеэтажная', (1, 1)),\n",
       " ('Жилая застройка - Многоэтажная', (1, 1)),\n",
       " ('Рекреационная', (5, 0))]"
      ]
     },
     "execution_count": 5,
     "metadata": {},
     "output_type": "execute_result"
    }
   ],
   "source": [
    "from popframe.method.territory_evaluation import TerritoryEvaluation\n",
    "\n",
    "evaluation = TerritoryEvaluation(region=region_model)\n",
    "ranked_profiles = evaluation.calculate_potential(territories_criteria)\n",
    "ranked_profiles"
   ]
  },
  {
   "cell_type": "code",
   "execution_count": 6,
   "metadata": {},
   "outputs": [
    {
     "name": "stdout",
     "output_type": "stream",
     "text": [
      "Профиль: Сельско-хозяйственная, Потенциал: 5\n",
      "Профиль: Транспортная инженерная, Потенциал: 5\n",
      "Профиль: Жилая застройка - ИЖС, Потенциал: 3\n",
      "Профиль: Специального назначения - туристический кластер, Потенциал: 3\n",
      "Профиль: Жилая застройка - Малоэтажная, Потенциал: 2\n",
      "Профиль: Общественно-деловая, Потенциал: 2\n",
      "Профиль: Специального назначения - медицинский центр, Потенциал: 2\n",
      "Профиль: Промышленная, Потенциал: 2\n",
      "Профиль: Жилая застройка - Среднеэтажная, Потенциал: 1\n",
      "Профиль: Жилая застройка - Многоэтажная, Потенциал: 1\n",
      "Профиль: Рекреационная, Потенциал: 5\n"
     ]
    }
   ],
   "source": [
    "for profile, (potential, weighted_score) in ranked_profiles:\n",
    "        print(f\"Профиль: {profile}, Потенциал: {potential}\")"
   ]
  }
 ],
 "metadata": {
  "kernelspec": {
   "display_name": "Python 3.10.11 ('.venv': venv)",
   "language": "python",
   "name": "python3"
  },
  "language_info": {
   "codemirror_mode": {
    "name": "ipython",
    "version": 3
   },
   "file_extension": ".py",
   "mimetype": "text/x-python",
   "name": "python",
   "nbconvert_exporter": "python",
   "pygments_lexer": "ipython3",
   "version": "3.10.11"
  },
  "orig_nbformat": 4,
  "vscode": {
   "interpreter": {
    "hash": "c21a1bc2b911f732fdac23cd1feeec595a0a7d9546824e5c60cad34dd54c0319"
   }
  }
 },
 "nbformat": 4,
 "nbformat_minor": 2
}
