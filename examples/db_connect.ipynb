{
 "cells": [
  {
   "cell_type": "code",
   "execution_count": null,
   "metadata": {},
   "outputs": [],
   "source": [
    "import sqlalchemy #required sqlalchemy==2.0.29, psycopg2-binary==2.9.9\n",
    "\n",
    "db_server = '10.32.1.107'\n",
    "db_port = '5432'\n",
    "db_name = 'urban_db'\n",
    "db_login = '...'\n",
    "db_password = '...'\n",
    "\n",
    "engine = sqlalchemy.create_engine(f\"postgresql://{db_login}:{db_password}@{db_server}:{db_port}/{db_name}\")"
   ]
  },
  {
   "cell_type": "code",
   "execution_count": null,
   "metadata": {},
   "outputs": [],
   "source": [
    "import geopandas as gpd\n",
    "import pandas as pd\n",
    "\n",
    "territories_query = sqlalchemy.text(\"SELECT * FROM territories_data\")\n",
    "territory_types_query = sqlalchemy.text(\"SELECT * FROM territory_types_dict\")\n",
    "\n",
    "with engine.connect() as conn:\n",
    "  territories = gpd.read_postgis(territories_query, con=conn, geom_col='geometry', index_col='territory_id')\n",
    "  territory_types = pd.read_sql_query(territory_types_query, con=conn, index_col='territory_type_id')\n"
   ]
  },
  {
   "cell_type": "code",
   "execution_count": null,
   "metadata": {},
   "outputs": [],
   "source": [
    "buildings_query = sqlalchemy.text(\"SELECT * FROM living_buildings_data\")\n",
    "\n",
    "with engine.connect() as conn:\n",
    "  buildings = pd.read_sql_query(buildings_query, con=conn, index_col='living_building_real_id')"
   ]
  }
 ],
 "metadata": {
  "language_info": {
   "name": "python"
  }
 },
 "nbformat": 4,
 "nbformat_minor": 2
}
