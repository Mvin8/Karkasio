{
 "cells": [
  {
   "cell_type": "code",
   "execution_count": null,
   "metadata": {},
   "outputs": [],
   "source": [
    "# import osmnx as ox\n",
    "import pandas as pd\n",
    "import geopandas as gpd\n",
    "import networkx as nx\n",
    "import numpy as np\n",
    "import warnings\n",
    "import sys\n",
    "import os\n",
    "warnings.filterwarnings(\"ignore\")\n",
    "sys.stderr = open(os.devnull, 'w')\n",
    "\n",
    "# local crs\n",
    "local_crs = 32636"
   ]
  },
  {
   "cell_type": "code",
   "execution_count": null,
   "metadata": {},
   "outputs": [],
   "source": []
  },
  {
   "cell_type": "code",
   "execution_count": null,
   "metadata": {},
   "outputs": [],
   "source": [
    "from popframe.preprocessing.level_filler import LevelFiller\n",
    "level_filler = LevelFiller(towns=towns)\n",
    "towns = level_filler.fill_levels()\n",
    "towns"
   ]
  },
  {
   "cell_type": "code",
   "execution_count": null,
   "metadata": {},
   "outputs": [],
   "source": [
    "# import requests\n",
    "# async def get_accessibility_matrix(region_id : int, graph_type : str) -> pd.DataFrame:\n",
    "#         res = requests.get('http://10.32.1.65:5700' + f'/api_v1/{region_id}/get_matrix', {\n",
    "#           'graph_type': graph_type\n",
    "#         })\n",
    "#         json = res.json()\n",
    "#         return pd.DataFrame(json['values'], index=json['index'], columns=json['columns'])\n",
    "\n",
    "# adj_mx = await get_accessibility_matrix(1, 'drive')\n",
    "\n",
    "\n",
    "# adj_mx.index = towns.index\n",
    "# adj_mx.columns = towns.index"
   ]
  },
  {
   "cell_type": "code",
   "execution_count": null,
   "metadata": {},
   "outputs": [],
   "source": [
    "crs = towns.estimate_utm_crs()\n",
    "region = region.to_crs(crs)\n",
    "towns = towns.to_crs(crs)"
   ]
  },
  {
   "cell_type": "code",
   "execution_count": null,
   "metadata": {},
   "outputs": [],
   "source": [
    "from popframe.method.popuation_frame import PopulationFrame\n",
    "from popframe.models.region import Region\n",
    "\n",
    "region_model = Region(\n",
    "  region = region,\n",
    "  towns=towns,\n",
    "  accessibility_matrix=adj_mx\n",
    ")\n",
    "# region.to_pickle('Ленинградская область.pickle')\n",
    "# region_model = Region.from_pickle('data/Ленинградская область.pickle')"
   ]
  }
 ],
 "metadata": {
  "kernelspec": {
   "display_name": ".venv",
   "language": "python",
   "name": "python3"
  },
  "language_info": {
   "name": "python",
   "version": "3.10.11"
  }
 },
 "nbformat": 4,
 "nbformat_minor": 2
}
