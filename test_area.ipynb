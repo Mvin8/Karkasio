{
 "cells": [
  {
   "cell_type": "code",
   "execution_count": 2,
   "metadata": {},
   "outputs": [],
   "source": [
    "# import osmnx as ox\n",
    "import pandas as pd\n",
    "import geopandas as gpd\n",
    "import json\n",
    "from io import StringIO\n",
    "import warnings\n",
    "import sys\n",
    "import os\n",
    "warnings.filterwarnings(\"ignore\")\n",
    "sys.stderr = open(os.devnull, 'w')\n"
   ]
  },
  {
   "cell_type": "code",
   "execution_count": 10,
   "metadata": {},
   "outputs": [
    {
     "data": {
      "text/html": [
       "<div>\n",
       "<style scoped>\n",
       "    .dataframe tbody tr th:only-of-type {\n",
       "        vertical-align: middle;\n",
       "    }\n",
       "\n",
       "    .dataframe tbody tr th {\n",
       "        vertical-align: top;\n",
       "    }\n",
       "\n",
       "    .dataframe thead th {\n",
       "        text-align: right;\n",
       "    }\n",
       "</style>\n",
       "<table border=\"1\" class=\"dataframe\">\n",
       "  <thead>\n",
       "    <tr style=\"text-align: right;\">\n",
       "      <th></th>\n",
       "      <th>osm_id</th>\n",
       "      <th>boundary</th>\n",
       "      <th>admin_level</th>\n",
       "      <th>name</th>\n",
       "      <th>layer</th>\n",
       "      <th>2019</th>\n",
       "      <th>2020</th>\n",
       "      <th>2021</th>\n",
       "      <th>2022</th>\n",
       "      <th>2023</th>\n",
       "      <th>key</th>\n",
       "      <th>admiin center</th>\n",
       "      <th>status</th>\n",
       "      <th>geometry</th>\n",
       "    </tr>\n",
       "  </thead>\n",
       "  <tbody>\n",
       "    <tr>\n",
       "      <th>0</th>\n",
       "      <td>-140291</td>\n",
       "      <td>administrative</td>\n",
       "      <td>4</td>\n",
       "      <td>Тюменская область</td>\n",
       "      <td>Тюменская область</td>\n",
       "      <td>1493218.0</td>\n",
       "      <td>1537416.0</td>\n",
       "      <td>1543389.0</td>\n",
       "      <td>1552148.0</td>\n",
       "      <td>1608494.0</td>\n",
       "      <td>71000000000</td>\n",
       "      <td>г Тюмень</td>\n",
       "      <td>Область</td>\n",
       "      <td>MULTIPOLYGON (((64.82719 57.29312, 64.86016 57...</td>\n",
       "    </tr>\n",
       "  </tbody>\n",
       "</table>\n",
       "</div>"
      ],
      "text/plain": [
       "   osm_id        boundary  admin_level               name              layer  \\\n",
       "0 -140291  administrative            4  Тюменская область  Тюменская область   \n",
       "\n",
       "        2019       2020       2021       2022       2023          key  \\\n",
       "0  1493218.0  1537416.0  1543389.0  1552148.0  1608494.0  71000000000   \n",
       "\n",
       "  admiin center   status                                           geometry  \n",
       "0      г Тюмень  Область  MULTIPOLYGON (((64.82719 57.29312, 64.86016 57...  "
      ]
     },
     "execution_count": 10,
     "metadata": {},
     "output_type": "execute_result"
    }
   ],
   "source": [
    "district = gpd.read_file('C:\\Code\\PopFrame\\9 регионов\\Тюменская область\\Каркас населения/region.geojson')\n",
    "district"
   ]
  },
  {
   "cell_type": "code",
   "execution_count": 11,
   "metadata": {},
   "outputs": [
    {
     "data": {
      "text/html": [
       "<div>\n",
       "<style scoped>\n",
       "    .dataframe tbody tr th:only-of-type {\n",
       "        vertical-align: middle;\n",
       "    }\n",
       "\n",
       "    .dataframe tbody tr th {\n",
       "        vertical-align: top;\n",
       "    }\n",
       "\n",
       "    .dataframe thead th {\n",
       "        text-align: right;\n",
       "    }\n",
       "</style>\n",
       "<table border=\"1\" class=\"dataframe\">\n",
       "  <thead>\n",
       "    <tr style=\"text-align: right;\">\n",
       "      <th></th>\n",
       "      <th>№ п/п</th>\n",
       "      <th>Название  хранимое</th>\n",
       "      <th>ед.изм.</th>\n",
       "      <th>Значение</th>\n",
       "      <th>Территория</th>\n",
       "      <th>Источник</th>\n",
       "      <th>Период</th>\n",
       "    </tr>\n",
       "  </thead>\n",
       "  <tbody>\n",
       "    <tr>\n",
       "      <th>0</th>\n",
       "      <td>1.1</td>\n",
       "      <td>Площадь территории</td>\n",
       "      <td>км²</td>\n",
       "      <td>183304</td>\n",
       "      <td>Тюменская область</td>\n",
       "      <td>modeled</td>\n",
       "      <td>2024</td>\n",
       "    </tr>\n",
       "  </tbody>\n",
       "</table>\n",
       "</div>"
      ],
      "text/plain": [
       "  № п/п  Название  хранимое ед.изм.  Значение         Территория Источник  \\\n",
       "0   1.1  Площадь территории     км²    183304  Тюменская область  modeled   \n",
       "\n",
       "  Период  \n",
       "0   2024  "
      ]
     },
     "execution_count": 11,
     "metadata": {},
     "output_type": "execute_result"
    }
   ],
   "source": [
    "gdf = district\n",
    "# Вычисление площади территории в квадратных километрах и округление до целого числа\n",
    "gdf['area_km2'] = (gdf['geometry'].to_crs(epsg=32635).area / 10**6).round().astype(int)\n",
    "\n",
    "# Создание нового GeoDataFrame с необходимыми столбцами\n",
    "new_gdf = gpd.GeoDataFrame({\n",
    "    '№ п/п': ['1.1'] * len(gdf),\n",
    "    'Название  хранимое': ['Площадь территории'] * len(gdf),\n",
    "    'ед.изм.': ['км²'] * len(gdf),\n",
    "    'Значение': gdf['area_km2'],\n",
    "    'Территория': gdf['name'],\n",
    "    'Источник': ['modeled'] * len(gdf),  # Замените на реальный источник, если он есть\n",
    "    'Период': ['2024'] * len(gdf)  # Замените на реальный период, если он есть\n",
    "})\n",
    "new_gdf"
   ]
  },
  {
   "cell_type": "code",
   "execution_count": null,
   "metadata": {},
   "outputs": [],
   "source": []
  }
 ],
 "metadata": {
  "kernelspec": {
   "display_name": "Python 3.10.11 ('.venv': venv)",
   "language": "python",
   "name": "python3"
  },
  "language_info": {
   "codemirror_mode": {
    "name": "ipython",
    "version": 3
   },
   "file_extension": ".py",
   "mimetype": "text/x-python",
   "name": "python",
   "nbconvert_exporter": "python",
   "pygments_lexer": "ipython3",
   "version": "3.10.11"
  },
  "orig_nbformat": 4,
  "vscode": {
   "interpreter": {
    "hash": "d84d888e8c1aa976b1aefaf298f847d99d3cc79ef99c572526352e6a5929ae47"
   }
  }
 },
 "nbformat": 4,
 "nbformat_minor": 2
}
